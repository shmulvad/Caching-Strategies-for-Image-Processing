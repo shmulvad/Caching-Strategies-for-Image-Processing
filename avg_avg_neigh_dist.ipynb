{
 "cells": [
  {
   "cell_type": "markdown",
   "metadata": {},
   "source": [
    "# Average of average neighbor distance"
   ]
  },
  {
   "cell_type": "markdown",
   "metadata": {},
   "source": [
    "### Set values for whether you would like to generate new results or just use the JSON that has previously been generated"
   ]
  },
  {
   "cell_type": "code",
   "execution_count": 1,
   "metadata": {},
   "outputs": [],
   "source": [
    "# Set to true if you want to run the tests again. Otherwise just loads results from JSON\n",
    "GENERATE_NEW_RESULTS = False\n",
    "\n",
    "# Set to true if you want to save figures to disk. Change path as needed\n",
    "SAVE_FIGURES_TO_DISK = False\n",
    "FIG_SAVE_PATH = \"../thesis/figures\""
   ]
  },
  {
   "cell_type": "markdown",
   "metadata": {},
   "source": [
    "Load in packages and set options for prettier plots"
   ]
  },
  {
   "cell_type": "code",
   "execution_count": 2,
   "metadata": {},
   "outputs": [],
   "source": [
    "import matplotlib\n",
    "import matplotlib.pyplot as plt\n",
    "import seaborn as sns; sns.set()\n",
    "\n",
    "import concurrent.futures\n",
    "import json\n",
    "import numpy as np\n",
    "\n",
    "from test_results_helper_funcs import save_fig, make_cache, get_val_arr, MORTON, ROW_ARR, BLOCK_ARR\n",
    "\n",
    "from data_structures.morton_order import MortonOrder\n",
    "from data_structures.block_array import BlockArray\n",
    "from data_structures.row_major_array import RowMajorArray"
   ]
  },
  {
   "cell_type": "markdown",
   "metadata": {},
   "source": [
    "## Defining functions/variables to run tests"
   ]
  },
  {
   "cell_type": "code",
   "execution_count": 3,
   "metadata": {},
   "outputs": [],
   "source": [
    "def avg_dist_to_neighbors_from_voxel(element, x, y, z):\n",
    "    \"\"\"\n",
    "    Calculates the average distance to neighbors in linear address space\n",
    "    at a specific voxel\n",
    "    \"\"\"\n",
    "    internal_index = element.internal_index(x, y, z)\n",
    "    summ, elements_counted = 0, 0\n",
    "    for x_inc in range(-1, 2):\n",
    "        for y_inc in range(-1, 2):\n",
    "            for z_inc in range(-1, 2):\n",
    "                x_here = x + x_inc\n",
    "                y_here = y + y_inc\n",
    "                z_here = z + z_inc\n",
    "                if x_inc == 0 and y_inc == 0 and z_inc == 0 or \\\n",
    "                   not element.valid_index(x_here, y_here, z_here):\n",
    "                    continue\n",
    "                index_here = element.internal_index(x_here, y_here, z_here)\n",
    "                summ += abs(internal_index - index_here)\n",
    "                elements_counted += 1\n",
    "    return float(summ) / elements_counted\n",
    "\n",
    "def avg_of_avg_dist_to_neighbors(element):\n",
    "    \"\"\"\n",
    "    Calculates the average of all average distances in linear\n",
    "    address space to neighbors in a data structure\n",
    "    \"\"\"\n",
    "    summ = 0.0\n",
    "    for (x, y, z) in element.iter_keys():\n",
    "        summ += avg_dist_to_neighbors_from_voxel(element, x, y, z)\n",
    "    return summ / np.prod(element.shape)"
   ]
  },
  {
   "cell_type": "code",
   "execution_count": 4,
   "metadata": {
    "scrolled": false
   },
   "outputs": [],
   "source": [
    "def avg_dist_for_n_and_data(vals):\n",
    "    name, arr = vals\n",
    "    avg = avg_of_avg_dist_to_neighbors(arr)\n",
    "    print(f\"{name} {arr.shape} finished\")\n",
    "    return name, avg\n",
    "\n",
    "def avg_dist_for_n(n):\n",
    "    rnd_vals = np.random.rand(n, n, n)\n",
    "    test_vals = [\n",
    "        (MORTON, MortonOrder(rnd_vals)),\n",
    "        (BLOCK_ARR, BlockArray(rnd_vals, S=(4 if n <= 8 else 8))),\n",
    "        (ROW_ARR, RowMajorArray(rnd_vals))\n",
    "    ]\n",
    "    res = {}\n",
    "    with concurrent.futures.ProcessPoolExecutor() as executor:\n",
    "        for (name, avg) in executor.map(avg_dist_for_n_and_data, test_vals):\n",
    "            res[name] = avg\n",
    "    return res, n"
   ]
  },
  {
   "cell_type": "code",
   "execution_count": 5,
   "metadata": {},
   "outputs": [
    {
     "name": "stdout",
     "output_type": "stream",
     "text": [
      "[4, 8, 16, 32, 64, 128, 256]\n"
     ]
    }
   ],
   "source": [
    "ns = [2**i for i in range(2, 9)]\n",
    "print(ns)"
   ]
  },
  {
   "cell_type": "markdown",
   "metadata": {},
   "source": [
    "## Generating/loading in test results"
   ]
  },
  {
   "cell_type": "code",
   "execution_count": 6,
   "metadata": {},
   "outputs": [],
   "source": [
    "if GENERATE_NEW_RESULTS:\n",
    "    results = {}\n",
    "    with concurrent.futures.ProcessPoolExecutor() as executor:\n",
    "        for (obj, n) in executor.map(avg_dist_for_n, ns):\n",
    "            results[n] = obj\n",
    "\n",
    "    with open('results/avg-avg-neighbor-dist.json', 'w') as f:\n",
    "        json.dump(results, f, indent=4)\n",
    "else:\n",
    "    with open('results/avg-avg-neighbor-dist.json', 'r') as f:\n",
    "        results = json.load(f)"
   ]
  },
  {
   "cell_type": "markdown",
   "metadata": {},
   "source": [
    "## Print results to copy-pasteable $\\LaTeX$-table"
   ]
  },
  {
   "cell_type": "code",
   "execution_count": 8,
   "metadata": {},
   "outputs": [
    {
     "name": "stdout",
     "output_type": "stream",
     "text": [
      "  4 &     9.54 &    11.21 &    11.21 \\\\\n",
      "  8 &    39.78 &    40.54 &    44.26 \\\\\n",
      " 16 &   166.61 &   169.06 &   176.86 \\\\\n",
      " 32 &   685.82 &   690.76 &   707.89 \\\\\n",
      " 64 &  2787.28 &  2802.51 &  2833.36 \\\\\n",
      "128 & 11243.36 & 11282.46 & 11337.83 \\\\\n",
      "256 & 45169.30 & 45258.10 & 45360.92 \\\\\n"
     ]
    }
   ],
   "source": [
    "# Print the results in such a way that they can be copy-pasted to LaTeX table\n",
    "for n in results:\n",
    "    vals = results[n]\n",
    "    print(f\"{n:>3} & {vals[MORTON]:>8.2f} & {vals[BLOCK_ARR]:>8.2f} & {vals[ROW_ARR]:>8.2f} \\\\\\\\\")"
   ]
  }
 ],
 "metadata": {
  "kernelspec": {
   "display_name": "Python 3",
   "language": "python",
   "name": "python3"
  },
  "language_info": {
   "codemirror_mode": {
    "name": "ipython",
    "version": 3
   },
   "file_extension": ".py",
   "mimetype": "text/x-python",
   "name": "python",
   "nbconvert_exporter": "python",
   "pygments_lexer": "ipython3",
   "version": "3.7.6"
  }
 },
 "nbformat": 4,
 "nbformat_minor": 2
}
